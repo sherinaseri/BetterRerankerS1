{
 "cells": [
  {
   "cell_type": "code",
   "execution_count": 1,
   "id": "034a4f83-f50a-4b2b-b815-f09ec4de1176",
   "metadata": {
    "tags": []
   },
   "outputs": [],
   "source": [
    "from tqdm import tqdm"
   ]
  },
  {
   "cell_type": "code",
   "execution_count": 2,
   "id": "ed8d6722-5880-45f4-9eaa-4e874812ac27",
   "metadata": {},
   "outputs": [],
   "source": [
    "from collections import defaultdict"
   ]
  },
  {
   "cell_type": "code",
   "execution_count": 8,
   "id": "07172577-c527-4f66-9b58-51c0aa0900d1",
   "metadata": {},
   "outputs": [],
   "source": [
    "import os"
   ]
  },
  {
   "cell_type": "code",
   "execution_count": 3,
   "id": "6c4e9916-f6cf-4bbc-8b94-1f2d0ffd0541",
   "metadata": {},
   "outputs": [],
   "source": [
    "def read_run(path):\n",
    "    run = {}\n",
    "    with open(path) as f:\n",
    "        for line in tqdm(f):\n",
    "            qid, _ , did, _ , score ,_ = line.strip().split()\n",
    "            score = float(score)\n",
    "            run.setdefault(qid, {})\n",
    "            run[qid][did] = score\n",
    "    return run"
   ]
  },
  {
   "cell_type": "code",
   "execution_count": 14,
   "id": "0779bc87-8976-47c5-b834-2e7c05e8e43a",
   "metadata": {},
   "outputs": [
    {
     "name": "stderr",
     "output_type": "stream",
     "text": [
      "54000it [00:00, 494469.86it/s]\n",
      "54000it [00:00, 892426.20it/s]\n"
     ]
    }
   ],
   "source": [
    "rerank_run = read_run(\"/work/snaseri_umass_edu/better_P3/experiments/BetterRerankerS1/runs/rus_ar_rerank_dpr_AUTO_colbert_query_maxlen_32.run\")\n",
    "\n",
    "baseline_run = read_run(\"/work/snaseri_umass_edu/better_P3/experiments/BetterRerankerS1/runs/round_robin_ar_ru_baseline.run\")\n",
    "        \n",
    "baseline_list = {}\n",
    "for qid in baseline_run:\n",
    "    ranklist = list(sorted(baseline_run[qid].items(), key=lambda x: (x[1], x[0]), reverse=True))\n",
    "    baseline_list.setdefault(qid, [])\n",
    "    for retdoc in ranklist:\n",
    "        baseline_list[qid].append(retdoc[0])"
   ]
  },
  {
   "cell_type": "code",
   "execution_count": 15,
   "id": "50735a15-19fb-48e5-bb30-b22ae8d42d4d",
   "metadata": {},
   "outputs": [],
   "source": [
    "rrf_k = 60"
   ]
  },
  {
   "cell_type": "code",
   "execution_count": 16,
   "id": "f187bd03-67fe-4ab7-b184-27dc0cfbd981",
   "metadata": {},
   "outputs": [
    {
     "name": "stderr",
     "output_type": "stream",
     "text": [
      "100%|█████████████████████████████████████████████████████████████████████████████████████████████████████████████████████████████████████████████████████████████████████████████| 54/54 [00:00<00:00, 96.88it/s]\n"
     ]
    }
   ],
   "source": [
    "fusion_run = defaultdict(dict)\n",
    "for qid in tqdm(rerank_run):\n",
    "    rerank_list = list(sorted(rerank_run[qid].items(), key=lambda x: (x[1], x[0]), reverse=True))\n",
    "    for i in range(len(rerank_list)):\n",
    "        did = rerank_list[i][0]\n",
    "        rerank_at = i + 1\n",
    "        baseline_at = baseline_list[qid].index(did) + 1\n",
    "        # print(rerank_at, baseline_at)\n",
    "        fused_score = (1/(rrf_k + rerank_at)) + (1/(rrf_k + baseline_at))\n",
    "        fusion_run[qid][did] = fused_score"
   ]
  },
  {
   "cell_type": "code",
   "execution_count": 17,
   "id": "7d5ab959-017c-4599-9b9a-b5cc3dc34543",
   "metadata": {},
   "outputs": [],
   "source": [
    "fusion_file = os.path.join(\"/work/snaseri_umass_edu/better_P3/experiments/BetterRerankerS1/runs\", f'fusion_ru_ar_reranker_dp_and_ru_ar_baseline_rrf_{rrf_k}.run')\n",
    "with open(fusion_file, 'wt') as runfile:\n",
    "    for qid in fusion_run:\n",
    "        dummy_score = 100000\n",
    "        fused_scores = list(sorted(fusion_run[qid].items(), key=lambda x: (x[1], x[0]), reverse=True))\n",
    "        for i, (did, score) in enumerate(fused_scores):\n",
    "            runfile.write(f'{qid} 0 {did} {i+1} {dummy_score} run\\n')\n",
    "            dummy_score -= 1"
   ]
  },
  {
   "cell_type": "code",
   "execution_count": null,
   "id": "d3704c14-3c33-47b2-a5fd-2708f1dfe1ea",
   "metadata": {},
   "outputs": [],
   "source": []
  }
 ],
 "metadata": {
  "kernelspec": {
   "display_name": "gen-match",
   "language": "python",
   "name": "gen-match"
  },
  "language_info": {
   "codemirror_mode": {
    "name": "ipython",
    "version": 3
   },
   "file_extension": ".py",
   "mimetype": "text/x-python",
   "name": "python",
   "nbconvert_exporter": "python",
   "pygments_lexer": "ipython3",
   "version": "3.10.4"
  }
 },
 "nbformat": 4,
 "nbformat_minor": 5
}
