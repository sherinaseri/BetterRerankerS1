{
 "cells": [
  {
   "cell_type": "markdown",
   "id": "155934ee-240e-4431-a9bd-4e7d2af6b44f",
   "metadata": {},
   "source": [
    "# Fusion using trectools package"
   ]
  },
  {
   "cell_type": "markdown",
   "id": "85ed3143-5fc9-484d-b689-fc657e82357e",
   "metadata": {},
   "source": [
    "The score for documents not present in a TrecRun is set to zero"
   ]
  },
  {
   "cell_type": "code",
   "execution_count": 1,
   "id": "0f88d495-5ad8-406d-bebb-dab9488a5df2",
   "metadata": {},
   "outputs": [],
   "source": [
    "from trectools import TrecRun, TrecEval, fusion"
   ]
  },
  {
   "cell_type": "code",
   "execution_count": null,
   "id": "f6b00d07-ce4b-4f8b-a579-ed3c03b573c0",
   "metadata": {},
   "outputs": [],
   "source": [
    "print(\"hi\")"
   ]
  },
  {
   "cell_type": "code",
   "execution_count": 2,
   "id": "334e4821-962b-4d7b-a718-59f28a628b00",
   "metadata": {},
   "outputs": [],
   "source": [
    "r1 = TrecRun(\"/work/snaseri_umass_edu/better_P3/experiments/BetterRerankerS1/runs-test/DPR-Reranked.run\")"
   ]
  },
  {
   "cell_type": "code",
   "execution_count": 3,
   "id": "43710cad-dcb7-4c9d-b37a-318770222a77",
   "metadata": {},
   "outputs": [],
   "source": [
    "r2 = TrecRun(\"/work/snaseri_umass_edu/better_P3/experiments/BetterRerankerS1/runs-test/Fusion_DPR_Reranked_w_Baseline_rrf_k_60.run\")"
   ]
  },
  {
   "cell_type": "code",
   "execution_count": 4,
   "id": "854a8c58-7072-4008-af01-a0c7bcd65086",
   "metadata": {},
   "outputs": [],
   "source": [
    "r3 = TrecRun(\"/work/snaseri_umass_edu/better_P3/data/BETTER_PHASE3_COMBO_ARABIC_FARSI_RUSSIAN/REPRODUCE-GDPR-S1-AUTO/62e171cedebb2f0d2619f2f6.FINAL.out\")"
   ]
  },
  {
   "cell_type": "code",
   "execution_count": null,
   "id": "4b617e16-248c-43ce-a65c-2554b8d9627e",
   "metadata": {},
   "outputs": [],
   "source": [
    "r4 = TrecRun(\"/work/snaseri_umass_edu/better_P3/experiments/BetterRerankerS1/runs/trectoolsFusion_hint_e2e_and_Baseline.run\")"
   ]
  },
  {
   "cell_type": "code",
   "execution_count": null,
   "id": "507ee5bf-283b-4705-9b88-fd6ec6cb512b",
   "metadata": {},
   "outputs": [],
   "source": [
    "r5 = TrecRun(\"/work/snaseri_umass_edu/better_P3/experiments/BetterRerankerS1/runs/Fusion_DPR_Reranked_w_Baseline-better_system_output_rrf_k_60.run\")"
   ]
  },
  {
   "cell_type": "code",
   "execution_count": null,
   "id": "1457b1ff-b5a3-43cd-a24d-4beb74f921e1",
   "metadata": {},
   "outputs": [],
   "source": [
    "r6 = TrecRun('/work/snaseri_umass_edu/better_P3/experiments/BetterRerankerS1/runs/Fusion_DPR_Reranked_w_Baseline_hint_e2e_rrf_k_60.run')"
   ]
  },
  {
   "cell_type": "code",
   "execution_count": 4,
   "id": "d908e511-ca17-45d2-9e2f-7df760b5cc7a",
   "metadata": {},
   "outputs": [],
   "source": [
    "r7 = TrecRun('/work/snaseri_umass_edu/better_P3/experiments/BetterRerankerS1/runs/DPR-Reranked_baseline-concat_62e171cedebb2f0d2619f2f6.FINAL.out_hint_e2e.run')"
   ]
  },
  {
   "cell_type": "code",
   "execution_count": 5,
   "id": "cb51b58b-d00e-4a3d-8152-50f5cf81b7c8",
   "metadata": {},
   "outputs": [],
   "source": [
    "fused_run = fusion.reciprocal_rank_fusion([r2, r3])"
   ]
  },
  {
   "cell_type": "code",
   "execution_count": 6,
   "id": "1974498f-3f78-45e4-80d4-cd843e2d6cc9",
   "metadata": {},
   "outputs": [
    {
     "name": "stdout",
     "output_type": "stream",
     "text": [
      "File /work/snaseri_umass_edu/better_P3/experiments/BetterRerankerS1/runs-test/Fusion_baseline_and_Fusion_DPR_Reranked_w_Baseline_rrf_k_60.run writen.\n"
     ]
    }
   ],
   "source": [
    "fused_run.print_subset(\"/work/snaseri_umass_edu/better_P3/experiments/BetterRerankerS1/runs-test/Fusion_baseline_and_Fusion_DPR_Reranked_w_Baseline_rrf_k_60.run\", topics=fused_run.topics())"
   ]
  },
  {
   "cell_type": "code",
   "execution_count": null,
   "id": "c12d94c4-8436-4db1-a230-f86348ad72a3",
   "metadata": {},
   "outputs": [],
   "source": []
  },
  {
   "cell_type": "markdown",
   "id": "0075853f-12d7-4b80-845d-c688067bc114",
   "metadata": {},
   "source": [
    "# Fusion using my own script"
   ]
  },
  {
   "cell_type": "code",
   "execution_count": null,
   "id": "034a4f83-f50a-4b2b-b815-f09ec4de1176",
   "metadata": {
    "tags": []
   },
   "outputs": [],
   "source": [
    "from tqdm import tqdm"
   ]
  },
  {
   "cell_type": "code",
   "execution_count": null,
   "id": "ed8d6722-5880-45f4-9eaa-4e874812ac27",
   "metadata": {},
   "outputs": [],
   "source": [
    "from collections import defaultdict"
   ]
  },
  {
   "cell_type": "code",
   "execution_count": null,
   "id": "07172577-c527-4f66-9b58-51c0aa0900d1",
   "metadata": {},
   "outputs": [],
   "source": [
    "import os"
   ]
  },
  {
   "cell_type": "code",
   "execution_count": null,
   "id": "6c4e9916-f6cf-4bbc-8b94-1f2d0ffd0541",
   "metadata": {},
   "outputs": [],
   "source": [
    "def read_run(path):\n",
    "    run = {}\n",
    "    with open(path) as f:\n",
    "        for line in tqdm(f):\n",
    "            qid, _ , did, _ , score ,_ = line.strip().split()\n",
    "            score = float(score)\n",
    "            run.setdefault(qid, {})\n",
    "            run[qid][did] = score\n",
    "    return run"
   ]
  },
  {
   "cell_type": "code",
   "execution_count": null,
   "id": "0779bc87-8976-47c5-b834-2e7c05e8e43a",
   "metadata": {},
   "outputs": [],
   "source": [
    "rerank_run = read_run(\"/work/snaseri_umass_edu/better_P3/experiments/BetterRerankerS1/runs/zhiqi/hint_e2e.run\")\n",
    "\n",
    "baseline_run = read_run(\"/work/snaseri_umass_edu/better_P3/experiments/BetterRerankerS1/runs/Fusion_DPR-Reranker_Baseline_rrf-k_60.run\")\n",
    "        \n",
    "baseline_list = {}\n",
    "for qid in baseline_run:\n",
    "    ranklist = list(sorted(baseline_run[qid].items(), key=lambda x: (x[1], x[0]), reverse=True))\n",
    "    baseline_list.setdefault(qid, [])\n",
    "    for retdoc in ranklist:\n",
    "        baseline_list[qid].append(retdoc[0])"
   ]
  },
  {
   "cell_type": "code",
   "execution_count": null,
   "id": "50735a15-19fb-48e5-bb30-b22ae8d42d4d",
   "metadata": {},
   "outputs": [],
   "source": [
    "rrf_k = 60"
   ]
  },
  {
   "cell_type": "code",
   "execution_count": null,
   "id": "f187bd03-67fe-4ab7-b184-27dc0cfbd981",
   "metadata": {},
   "outputs": [],
   "source": [
    "fusion_run = defaultdict(dict)\n",
    "for qid in tqdm(rerank_run):\n",
    "    rerank_list = list(sorted(rerank_run[qid].items(), key=lambda x: (x[1], x[0]), reverse=True))\n",
    "    for i in range(len(rerank_list)):\n",
    "        did = rerank_list[i][0]\n",
    "        rerank_at = i + 1\n",
    "        baseline_at = baseline_list[qid].index(did) + 1\n",
    "        # print(rerank_at, baseline_at)\n",
    "        fused_score = (1/(rrf_k + rerank_at)) + (1/(rrf_k + baseline_at))\n",
    "        fusion_run[qid][did] = fused_score"
   ]
  },
  {
   "cell_type": "code",
   "execution_count": null,
   "id": "7d5ab959-017c-4599-9b9a-b5cc3dc34543",
   "metadata": {},
   "outputs": [],
   "source": [
    "fusion_file = os.path.join(\"/work/snaseri_umass_edu/better_P3/experiments/BetterRerankerS1/runs\", f'fusion_ru_ar_reranker_dp_and_ru_ar_baseline_rrf_{rrf_k}.run')\n",
    "with open(fusion_file, 'wt') as runfile:\n",
    "    for qid in fusion_run:\n",
    "        dummy_score = 100000\n",
    "        fused_scores = list(sorted(fusion_run[qid].items(), key=lambda x: (x[1], x[0]), reverse=True))\n",
    "        for i, (did, score) in enumerate(fused_scores):\n",
    "            runfile.write(f'{qid} 0 {did} {i+1} {dummy_score} run\\n')\n",
    "            dummy_score -= 1"
   ]
  },
  {
   "cell_type": "code",
   "execution_count": null,
   "id": "d3704c14-3c33-47b2-a5fd-2708f1dfe1ea",
   "metadata": {},
   "outputs": [],
   "source": []
  }
 ],
 "metadata": {
  "kernelspec": {
   "display_name": "gen-match",
   "language": "python",
   "name": "gen-match"
  },
  "language_info": {
   "codemirror_mode": {
    "name": "ipython",
    "version": 3
   },
   "file_extension": ".py",
   "mimetype": "text/x-python",
   "name": "python",
   "nbconvert_exporter": "python",
   "pygments_lexer": "ipython3",
   "version": "3.10.4"
  }
 },
 "nbformat": 4,
 "nbformat_minor": 5
}
